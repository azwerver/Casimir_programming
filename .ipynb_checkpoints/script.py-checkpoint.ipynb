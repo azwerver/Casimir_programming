{
 "cells": [
  {
   "cell_type": "code",
   "execution_count": 35,
   "metadata": {},
   "outputs": [
    {
     "name": "stdout",
     "output_type": "stream",
     "text": [
      "Ammie is really amazing\n",
      "\n",
      "The circumference of the circle with radius 3 is 18.85\n",
      "The surface of a circle with radius 3 is 28.27\n"
     ]
    }
   ],
   "source": [
    "print(\"Ammie is really amazing\")\n",
    "\n",
    "import test33\n",
    "\n",
    "\n",
    "\n",
    "# import 'home/learner/day3/Casimir_programming/test'\n",
    "print()\n",
    "print(\"The circumference of the circle with radius 3 is %0.2f\"%test33.circumference_circle(3))\n",
    "print(\"The surface of a circle with radius 3 is %0.2f\" %test33.surface_circle(3))\n"
   ]
  }
 ],
 "metadata": {
  "kernelspec": {
   "display_name": "Python 3",
   "language": "python",
   "name": "python3"
  },
  "language_info": {
   "codemirror_mode": {
    "name": "ipython",
    "version": 3
   },
   "file_extension": ".py",
   "mimetype": "text/x-python",
   "name": "python",
   "nbconvert_exporter": "python",
   "pygments_lexer": "ipython3",
   "version": "3.6.3"
  }
 },
 "nbformat": 4,
 "nbformat_minor": 2
}
